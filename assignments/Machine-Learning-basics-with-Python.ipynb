{
 "cells": [
  {
   "cell_type": "markdown",
   "metadata": {},
   "source": [
    "# Notebook overview \n",
    "The objective of this notebook is to familiarize yourself with the most popular tools used for Machine Learning in Python:\n",
    "\n",
    "* Numpy\n",
    "* Pandas\n",
    "* Sklearn"
   ]
  },
  {
   "cell_type": "code",
   "execution_count": null,
   "metadata": {
    "vscode": {
     "languageId": "plaintext"
    }
   },
   "outputs": [],
   "source": [
    "import numpy as np\n",
    "import pandas as pd\n",
    "\n",
    "from collections import Counter\n",
    "\n",
    "from sklearn.datasets import load_iris\n",
    "from sklearn.model_selection import train_test_split\n",
    "from sklearn.pipeline import Pipeline\n",
    "from sklearn.preprocessing import StandardScaler\n",
    "from sklearn.svm import SVC\n",
    "from sklearn.metrics import accuracy_score"
   ]
  },
  {
   "cell_type": "code",
   "execution_count": null,
   "metadata": {
    "vscode": {
     "languageId": "plaintext"
    }
   },
   "outputs": [],
   "source": [
    "SEED = 2024 # Seeds are used to guarantee reproducibility. Make sure to use this seed ALWAYS!"
   ]
  },
  {
   "cell_type": "markdown",
   "metadata": {},
   "source": [
    "# Exploring the IRIS dataset"
   ]
  },
  {
   "cell_type": "code",
   "execution_count": null,
   "metadata": {
    "vscode": {
     "languageId": "plaintext"
    }
   },
   "outputs": [],
   "source": [
    "iris_dataset = load_iris() # This returns a dictionary with the attributes of the dataset, let's build it."
   ]
  },
  {
   "cell_type": "code",
   "execution_count": null,
   "metadata": {
    "vscode": {
     "languageId": "plaintext"
    }
   },
   "outputs": [],
   "source": [
    "iris_dataset.keys()"
   ]
  },
  {
   "cell_type": "code",
   "execution_count": null,
   "metadata": {
    "vscode": {
     "languageId": "plaintext"
    }
   },
   "outputs": [],
   "source": [
    "iris_dataset[\"data\"]"
   ]
  },
  {
   "cell_type": "code",
   "execution_count": null,
   "metadata": {
    "vscode": {
     "languageId": "plaintext"
    }
   },
   "outputs": [],
   "source": [
    "iris_dataset[\"target\"]"
   ]
  },
  {
   "cell_type": "code",
   "execution_count": null,
   "metadata": {
    "vscode": {
     "languageId": "plaintext"
    }
   },
   "outputs": [],
   "source": [
    "print(iris_dataset[\"frame\"])"
   ]
  },
  {
   "cell_type": "code",
   "execution_count": null,
   "metadata": {
    "vscode": {
     "languageId": "plaintext"
    }
   },
   "outputs": [],
   "source": [
    "iris_dataset[\"target_names\"]"
   ]
  },
  {
   "cell_type": "code",
   "execution_count": null,
   "metadata": {
    "vscode": {
     "languageId": "plaintext"
    }
   },
   "outputs": [],
   "source": [
    "print(iris_dataset[\"DESCR\"])"
   ]
  },
  {
   "cell_type": "code",
   "execution_count": null,
   "metadata": {
    "vscode": {
     "languageId": "plaintext"
    }
   },
   "outputs": [],
   "source": [
    "iris_dataset[\"feature_names\"]"
   ]
  },
  {
   "cell_type": "code",
   "execution_count": null,
   "metadata": {
    "vscode": {
     "languageId": "plaintext"
    }
   },
   "outputs": [],
   "source": [
    "iris_dataset[\"filename\"]"
   ]
  },
  {
   "cell_type": "code",
   "execution_count": null,
   "metadata": {
    "vscode": {
     "languageId": "plaintext"
    }
   },
   "outputs": [],
   "source": [
    "def build_dataframe(dataset: dict) -> pd.DataFrame:\n",
    "    \"\"\"\n",
    "    This function takes as input a dictionary such as\n",
    "    iris_dataset and returns a pandas dataframe\n",
    "    with each column having the proper feature name.\n",
    "    The target value is also a column of this dataframe\n",
    "    with name `target`. It should contain the names of the target\n",
    "    `setosa`, etc. and not simply the encoded numbers.\n",
    "    \"\"\"\n",
    "    \n",
    "    # Write your code here"
   ]
  },
  {
   "cell_type": "code",
   "execution_count": null,
   "metadata": {
    "vscode": {
     "languageId": "plaintext"
    }
   },
   "outputs": [],
   "source": [
    "df = build_dataframe(iris_dataset)\n",
    "assert df.shape == (150, 5)\n",
    "answer_columns =  sorted(df.columns)\n",
    "answer_unique_targets = sorted(df[\"target\"].unique())\n",
    "\n",
    "print(\"Columns\", answer_columns)\n",
    "print(\"Targets\", answer_unique_targets)"
   ]
  },
  {
   "cell_type": "markdown",
   "metadata": {},
   "source": [
    "# Preparing the dataset for training\n",
    "Now that we have our dataset (df) ready, we can proceed to prepare it for Machine Learing. For this we will:\n",
    "\n",
    "* Split it into two sets: training and testing.\n",
    "* Create a pipeline to normalize our dataset and use SVM for clasification."
   ]
  },
  {
   "cell_type": "code",
   "execution_count": null,
   "metadata": {
    "vscode": {
     "languageId": "plaintext"
    }
   },
   "outputs": [],
   "source": [
    "y = df.pop(\"target\")\n",
    "X = df.copy()"
   ]
  },
  {
   "cell_type": "markdown",
   "metadata": {},
   "source": [
    "## Splitting the dataset into train and test\n",
    "\n",
    "Split the dataset into train and test using the method `train_test_split` (remember the seed!)\n",
    "Make sure that the test dataset represents 20% of the total rows (look at parameter `test_size`)"
   ]
  },
  {
   "cell_type": "code",
   "execution_count": null,
   "metadata": {
    "vscode": {
     "languageId": "plaintext"
    }
   },
   "outputs": [],
   "source": [
    "# Write your code here"
   ]
  },
  {
   "cell_type": "code",
   "execution_count": null,
   "metadata": {
    "vscode": {
     "languageId": "plaintext"
    }
   },
   "outputs": [],
   "source": [
    "assert X_train.shape == (120, 4)\n",
    "assert X_test.shape == (30, 4)\n",
    "assert y_train.shape == (120,)\n",
    "assert y_test.shape == (30,)\n",
    "\n",
    "answer_y_test = sorted(y_test.index)\n",
    "print(\"y_test index\", answer_y_test)"
   ]
  },
  {
   "cell_type": "markdown",
   "metadata": {},
   "source": [
    "## Generate Sklearn Pipeline\n",
    "Before proceeding you should take a closer look at [Sklearn pipelines](https://scikit-learn.org/stable/modules/generated/sklearn.pipeline.Pipeline.html)\n",
    "\n",
    "Let's create a pipeline where the first step is a Standard Scaler and the second step is an SVM classifier"
   ]
  },
  {
   "cell_type": "code",
   "execution_count": null,
   "metadata": {
    "vscode": {
     "languageId": "plaintext"
    }
   },
   "outputs": [],
   "source": [
    "\"\"\" \n",
    "Crete a pipeline where the first step is a `StandardScaler` (use the name 'scaler') and the second one \n",
    "an SVM classifier `SVC` (use the name 'model' and remember the SEED!)\n",
    "\"\"\"\n",
    "\n",
    "# Write your code here"
   ]
  },
  {
   "cell_type": "code",
   "execution_count": null,
   "metadata": {
    "vscode": {
     "languageId": "plaintext"
    }
   },
   "outputs": [],
   "source": [
    "assert pipe.steps[0][0] == \"scaler\"\n",
    "assert pipe.steps[1][0] == \"model\"\n",
    "\n",
    "assert isinstance(pipe.steps[0][1], StandardScaler)\n",
    "assert isinstance(pipe.steps[1][1], SVC)"
   ]
  },
  {
   "cell_type": "markdown",
   "metadata": {},
   "source": [
    "## Training the model\n",
    "Now it is time to train the model!"
   ]
  },
  {
   "cell_type": "code",
   "execution_count": null,
   "metadata": {
    "vscode": {
     "languageId": "plaintext"
    }
   },
   "outputs": [],
   "source": [
    "\"\"\"\n",
    "Finally, we are ready to train the model. Use the training dataset\n",
    "to train the model and predict the test dataset using the pipeline.\n",
    "The predictions for the test dataset should be stored in the variable `y_pred`\n",
    "Also, calcualte the accuracy of the model in both: train and test and save them\n",
    "as `acc_train` and `acc_test`.\n",
    "\"\"\"\n",
    "\n",
    "# Write your code here"
   ]
  },
  {
   "cell_type": "code",
   "execution_count": null,
   "metadata": {
    "vscode": {
     "languageId": "plaintext"
    }
   },
   "outputs": [],
   "source": [
    "assert np.allclose(acc_train, 0.9833333333333333)\n",
    "assert np.allclose(acc_test, 0.9666666666666667)\n",
    "answer_predictions = Counter(y_pred)\n",
    "\n",
    "print(\"Predition count\", answer_predictions)"
   ]
  },
  {
   "cell_type": "code",
   "execution_count": null,
   "metadata": {
    "vscode": {
     "languageId": "plaintext"
    }
   },
   "outputs": [],
   "source": [
    "print(str(answer_columns))\n",
    "print(str(answer_predictions))\n",
    "print(str(answer_y_test))\n",
    "print(str(answer_unique_targets))"
   ]
  }
 ],
 "metadata": {
  "language_info": {
   "name": "python"
  }
 },
 "nbformat": 4,
 "nbformat_minor": 2
}
